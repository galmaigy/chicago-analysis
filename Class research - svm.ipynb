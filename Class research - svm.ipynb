{
 "cells": [
  {
   "cell_type": "code",
   "execution_count": 19,
   "metadata": {},
   "outputs": [],
   "source": [
    "import pandas as pd\n",
    "import numpy as np\n",
    "# from sklearn.linear_model import LogisticRegression\n",
    "# from sklearn import metrics as mt\n",
    "# from sklearn.model_selection import ShuffleSplit\n",
    "import seaborn as sns\n",
    "import matplotlib.pyplot as plt\n",
    "%matplotlib inline\n",
    "from sklearn.preprocessing import LabelEncoder\n",
    "# import datetime\n",
    "# from sklearn.decomposition import PCA, KernelPCA\n",
    "# from sklearn.model_selection import train_test_split\n",
    "# #from sklearn.cross_validation import KFold, cross_val_score\n",
    "# from sklearn.metrics import make_scorer\n",
    "# #from sklearn.grid_search import GridSearchCV\n",
    "# from sklearn.feature_selection import VarianceThreshold, RFE, SelectKBest, chi2\n",
    "# from sklearn.preprocessing import MinMaxScaler\n",
    "# from sklearn.pipeline import Pipeline, FeatureUnion\n",
    "# from sklearn.linear_model import LogisticRegression\n",
    "# from sklearn.discriminant_analysis import LinearDiscriminantAnalysis\n",
    "# from sklearn.neighbors import KNeighborsClassifier\n",
    "# from sklearn.tree import DecisionTreeClassifier\n",
    "# from sklearn.naive_bayes import GaussianNB\n",
    "# from sklearn.svm import SVC\n",
    "# from sklearn.ensemble import BaggingClassifier, ExtraTreesClassifier, GradientBoostingClassifier, VotingClassifier, RandomForestClassifier, AdaBoostClassifier\n",
    "from IPython.display import display\n",
    "\n",
    "pd.set_option('display.max_rows', 10)\n",
    "df = pd.read_csv('data/TrafficCrashesChicago.csv')"
   ]
  },
  {
   "cell_type": "code",
   "execution_count": 20,
   "metadata": {},
   "outputs": [],
   "source": [
    "# lower case\n",
    "df.columns = [x.lower() for x in df.columns]\n",
    "\n",
    "# drop colunms having more than 100000 rows\n",
    "df_thresh = df.dropna(axis = 1, thresh=100000)"
   ]
  },
  {
   "cell_type": "code",
   "execution_count": 21,
   "metadata": {},
   "outputs": [
    {
     "name": "stdout",
     "output_type": "stream",
     "text": [
      "<class 'pandas.core.frame.DataFrame'>\n",
      "RangeIndex: 377630 entries, 0 to 377629\n",
      "Data columns (total 6 columns):\n",
      "report_type           368884 non-null object\n",
      "crash_type            377630 non-null object\n",
      "hit_and_run_i         104899 non-null object\n",
      "damage                377630 non-null object\n",
      "street_direction      377628 non-null object\n",
      "most_severe_injury    375396 non-null object\n",
      "dtypes: object(6)\n",
      "memory usage: 17.3+ MB\n"
     ]
    }
   ],
   "source": [
    "#categorical features research\n",
    "# getting object only\n",
    "obj_df = df_thresh.select_dtypes(include = ['object'])\n",
    "\n",
    "# choose potential class columns with less than 5: ['report_type','crash_type','hit_and_run_i','damage','street_direction','most_severe_injury' ]\n",
    "class_df = obj_df[['report_type','crash_type','hit_and_run_i','damage','street_direction','most_severe_injury']]\n",
    "class_df.info()"
   ]
  },
  {
   "cell_type": "code",
   "execution_count": 22,
   "metadata": {},
   "outputs": [
    {
     "name": "stdout",
     "output_type": "stream",
     "text": [
      "***** Object name:  report_type : % *****\n",
      "NOT ON SCENE (DESK REPORT)    60.739348\n",
      "ON SCENE                      36.944628\n",
      "NaN                            2.316024\n",
      "Name: report_type, dtype: float64 \n",
      "\n",
      "\n",
      "***** Object name:  crash_type : % *****\n",
      "NO INJURY / DRIVE AWAY              77.13741\n",
      "INJURY AND / OR TOW DUE TO CRASH    22.86259\n",
      "Name: crash_type, dtype: float64 \n",
      "\n",
      "\n",
      "***** Object name:  hit_and_run_i : % *****\n",
      "NaN    72.221751\n",
      "Y      26.574954\n",
      "N       1.203294\n",
      "Name: hit_and_run_i, dtype: float64 \n",
      "\n",
      "\n",
      "***** Object name:  damage : % *****\n",
      "OVER $1,500      56.392765\n",
      "$501 - $1,500    30.186426\n",
      "$500 OR LESS     13.420809\n",
      "Name: damage, dtype: float64 \n",
      "\n",
      "\n",
      "***** Object name:  street_direction : % *****\n",
      "W      35.703202\n",
      "S      32.526282\n",
      "N      24.879644\n",
      "E       6.890342\n",
      "NaN     0.000530\n",
      "Name: street_direction, dtype: float64 \n",
      "\n",
      "\n",
      "***** Object name:  most_severe_injury : % *****\n",
      "NO INDICATION OF INJURY     87.370177\n",
      "NONINCAPACITATING INJURY     6.575484\n",
      "REPORTED, NOT EVIDENT        3.876016\n",
      "INCAPACITATING INJURY        1.505707\n",
      "NaN                          0.591584\n",
      "FATAL                        0.081032\n",
      "Name: most_severe_injury, dtype: float64 \n",
      "\n",
      "\n"
     ]
    }
   ],
   "source": [
    "# review class_df\n",
    "for i in class_df.columns:\n",
    "    print('***** Object name: ', class_df[i].name, ': % *****')\n",
    "    print(class_df[i].value_counts(normalize = True, dropna = False) *100, '\\n\\n')\n",
    "    \n"
   ]
  },
  {
   "cell_type": "markdown",
   "metadata": {},
   "source": [
    "### findings: I would suggests to classifying damage\n",
    "1. Over \\$1,500\n",
    "2. Less than \\$500.\n",
    "\n"
   ]
  },
  {
   "cell_type": "code",
   "execution_count": 23,
   "metadata": {},
   "outputs": [],
   "source": [
    "# def custom_rating(genre,rating):\n",
    "#     if 'Thriller' in genre:\n",
    "#         return min(10,rating+1)\n",
    "#     elif 'Comedy' in genre:\n",
    "#         return max(0,rating-1)\n",
    "#     else:\n",
    "#         return rating\n",
    "        \n",
    "# df['CustomRating'] = df.apply(lambda x: custom_rating(x['Genre'],x['Rating']),axis=1)"
   ]
  },
  {
   "cell_type": "code",
   "execution_count": 24,
   "metadata": {},
   "outputs": [
    {
     "name": "stderr",
     "output_type": "stream",
     "text": [
      "C:\\Users\\sxc0126\\AppData\\Local\\Continuum\\anaconda3\\lib\\site-packages\\ipykernel_launcher.py:14: SettingWithCopyWarning: \n",
      "A value is trying to be set on a copy of a slice from a DataFrame.\n",
      "Try using .loc[row_indexer,col_indexer] = value instead\n",
      "\n",
      "See the caveats in the documentation: http://pandas.pydata.org/pandas-docs/stable/user_guide/indexing.html#returning-a-view-versus-a-copy\n",
      "  \n"
     ]
    }
   ],
   "source": [
    "\n",
    "\n",
    "pd.set_option('display.max_rows', 20)\n",
    "\n",
    "\n",
    "# def custom_damage(damage):\n",
    "#     if '$501 - $1,500' in damage:\n",
    "#         return 'Less$1,500'\n",
    "#     elif '$500 OR LESS' in damage:\n",
    "#         return 'Less$1,500'\n",
    "#     else:\n",
    "#         return 'Over$1,500'\n",
    "\n",
    "\n",
    "# df_thresh['damage2'] = df_thresh.apply(lambda x: custom_damage(x['damage']),axis=1)\n",
    "df_thresh['damage1'] = df_thresh['damage'].map({'OVER $1,500': 'Over$1,500', '$501 - $1,500':'Less$1,500','$500 OR LESS': 'Less$1,500'})\n",
    "# display(df_thresh.groupby(by=['damage1','damage2']).mean().T)\n",
    "# df_thresh.damage1.value_counts(normalize=True).plot(kind='bar')\n",
    "\n",
    "\n",
    "\n"
   ]
  },
  {
   "cell_type": "markdown",
   "metadata": {},
   "source": [
    "## team decision for class: crash_type\n",
    "\n"
   ]
  },
  {
   "cell_type": "code",
   "execution_count": 25,
   "metadata": {},
   "outputs": [
    {
     "data": {
      "text/html": [
       "<div>\n",
       "<style scoped>\n",
       "    .dataframe tbody tr th:only-of-type {\n",
       "        vertical-align: middle;\n",
       "    }\n",
       "\n",
       "    .dataframe tbody tr th {\n",
       "        vertical-align: top;\n",
       "    }\n",
       "\n",
       "    .dataframe thead th {\n",
       "        text-align: right;\n",
       "    }\n",
       "</style>\n",
       "<table border=\"1\" class=\"dataframe\">\n",
       "  <thead>\n",
       "    <tr style=\"text-align: right;\">\n",
       "      <th>crash_type</th>\n",
       "      <th>INJURY AND / OR TOW DUE TO CRASH</th>\n",
       "      <th>NO INJURY / DRIVE AWAY</th>\n",
       "    </tr>\n",
       "  </thead>\n",
       "  <tbody>\n",
       "    <tr>\n",
       "      <th>posted_speed_limit</th>\n",
       "      <td>29.481039</td>\n",
       "      <td>27.878339</td>\n",
       "    </tr>\n",
       "    <tr>\n",
       "      <th>lane_cnt</th>\n",
       "      <td>2.673933</td>\n",
       "      <td>16.607070</td>\n",
       "    </tr>\n",
       "    <tr>\n",
       "      <th>street_no</th>\n",
       "      <td>3711.299875</td>\n",
       "      <td>3541.303226</td>\n",
       "    </tr>\n",
       "    <tr>\n",
       "      <th>beat_of_occurrence</th>\n",
       "      <td>1210.117286</td>\n",
       "      <td>1259.982224</td>\n",
       "    </tr>\n",
       "    <tr>\n",
       "      <th>num_units</th>\n",
       "      <td>2.098892</td>\n",
       "      <td>1.997592</td>\n",
       "    </tr>\n",
       "    <tr>\n",
       "      <th>injuries_total</th>\n",
       "      <td>0.716895</td>\n",
       "      <td>0.000000</td>\n",
       "    </tr>\n",
       "    <tr>\n",
       "      <th>injuries_fatal</th>\n",
       "      <td>0.003866</td>\n",
       "      <td>0.000000</td>\n",
       "    </tr>\n",
       "    <tr>\n",
       "      <th>injuries_incapacitating</th>\n",
       "      <td>0.077743</td>\n",
       "      <td>0.000000</td>\n",
       "    </tr>\n",
       "    <tr>\n",
       "      <th>injuries_non_incapacitating</th>\n",
       "      <td>0.390551</td>\n",
       "      <td>0.000000</td>\n",
       "    </tr>\n",
       "    <tr>\n",
       "      <th>injuries_reported_not_evident</th>\n",
       "      <td>0.244735</td>\n",
       "      <td>0.000000</td>\n",
       "    </tr>\n",
       "    <tr>\n",
       "      <th>injuries_no_indication</th>\n",
       "      <td>1.762051</td>\n",
       "      <td>2.103838</td>\n",
       "    </tr>\n",
       "    <tr>\n",
       "      <th>injuries_unknown</th>\n",
       "      <td>0.000000</td>\n",
       "      <td>0.000000</td>\n",
       "    </tr>\n",
       "    <tr>\n",
       "      <th>crash_hour</th>\n",
       "      <td>12.692446</td>\n",
       "      <td>13.324586</td>\n",
       "    </tr>\n",
       "    <tr>\n",
       "      <th>crash_day_of_week</th>\n",
       "      <td>4.092430</td>\n",
       "      <td>4.129673</td>\n",
       "    </tr>\n",
       "    <tr>\n",
       "      <th>crash_month</th>\n",
       "      <td>7.057902</td>\n",
       "      <td>6.865147</td>\n",
       "    </tr>\n",
       "    <tr>\n",
       "      <th>latitude</th>\n",
       "      <td>41.849979</td>\n",
       "      <td>41.860581</td>\n",
       "    </tr>\n",
       "    <tr>\n",
       "      <th>longitude</th>\n",
       "      <td>-87.669295</td>\n",
       "      <td>-87.672776</td>\n",
       "    </tr>\n",
       "  </tbody>\n",
       "</table>\n",
       "</div>"
      ],
      "text/plain": [
       "crash_type                     INJURY AND / OR TOW DUE TO CRASH  \\\n",
       "posted_speed_limit                                    29.481039   \n",
       "lane_cnt                                               2.673933   \n",
       "street_no                                           3711.299875   \n",
       "beat_of_occurrence                                  1210.117286   \n",
       "num_units                                              2.098892   \n",
       "injuries_total                                         0.716895   \n",
       "injuries_fatal                                         0.003866   \n",
       "injuries_incapacitating                                0.077743   \n",
       "injuries_non_incapacitating                            0.390551   \n",
       "injuries_reported_not_evident                          0.244735   \n",
       "injuries_no_indication                                 1.762051   \n",
       "injuries_unknown                                       0.000000   \n",
       "crash_hour                                            12.692446   \n",
       "crash_day_of_week                                      4.092430   \n",
       "crash_month                                            7.057902   \n",
       "latitude                                              41.849979   \n",
       "longitude                                            -87.669295   \n",
       "\n",
       "crash_type                     NO INJURY / DRIVE AWAY  \n",
       "posted_speed_limit                          27.878339  \n",
       "lane_cnt                                    16.607070  \n",
       "street_no                                 3541.303226  \n",
       "beat_of_occurrence                        1259.982224  \n",
       "num_units                                    1.997592  \n",
       "injuries_total                               0.000000  \n",
       "injuries_fatal                               0.000000  \n",
       "injuries_incapacitating                      0.000000  \n",
       "injuries_non_incapacitating                  0.000000  \n",
       "injuries_reported_not_evident                0.000000  \n",
       "injuries_no_indication                       2.103838  \n",
       "injuries_unknown                             0.000000  \n",
       "crash_hour                                  13.324586  \n",
       "crash_day_of_week                            4.129673  \n",
       "crash_month                                  6.865147  \n",
       "latitude                                    41.860581  \n",
       "longitude                                  -87.672776  "
      ]
     },
     "metadata": {},
     "output_type": "display_data"
    },
    {
     "data": {
      "text/plain": [
       "<matplotlib.axes._subplots.AxesSubplot at 0x1aede3dc898>"
      ]
     },
     "execution_count": 25,
     "metadata": {},
     "output_type": "execute_result"
    },
    {
     "data": {
      "image/png": "[encoded data removed]",
      "text/plain": [
       "<Figure size 432x288 with 1 Axes>"
      ]
     },
     "metadata": {
      "needs_background": "light"
     },
     "output_type": "display_data"
    }
   ],
   "source": [
    "pd.set_option('display.max_rows', 20)\n",
    "display(df_thresh.groupby(by='crash_type').mean().T)\n",
    "df_thresh.crash_type.value_counts(normalize=True).plot(kind='bar')"
   ]
  },
  {
   "cell_type": "markdown",
   "metadata": {},
   "source": [
    "## sampling issue. downsampling."
   ]
  },
  {
   "cell_type": "code",
   "execution_count": 30,
   "metadata": {},
   "outputs": [
    {
     "name": "stdout",
     "output_type": "stream",
     "text": [
      "<class 'pandas.core.frame.DataFrame'>\n",
      "Int64Index: 86336 entries, 7 to 377627\n",
      "Data columns (total 48 columns):\n",
      "rd_no                            86336 non-null object\n",
      "crash_date_est_i                 5399 non-null object\n",
      "crash_date                       86336 non-null object\n",
      "posted_speed_limit               86336 non-null int64\n",
      "traffic_control_device           86336 non-null object\n",
      "device_condition                 86336 non-null object\n",
      "weather_condition                86336 non-null object\n",
      "lighting_condition               86336 non-null object\n",
      "first_crash_type                 86336 non-null object\n",
      "trafficway_type                  86336 non-null object\n",
      "lane_cnt                         46331 non-null float64\n",
      "alignment                        86336 non-null object\n",
      "roadway_surface_cond             86336 non-null object\n",
      "road_defect                      86336 non-null object\n",
      "report_type                      83286 non-null object\n",
      "crash_type                       86336 non-null object\n",
      "intersection_related_i           32643 non-null object\n",
      "not_right_of_way_i               3291 non-null object\n",
      "hit_and_run_i                    19694 non-null object\n",
      "damage                           86336 non-null object\n",
      "date_police_notified             86336 non-null object\n",
      "prim_contributory_cause          86336 non-null object\n",
      "sec_contributory_cause           86336 non-null object\n",
      "street_no                        86336 non-null int64\n",
      "street_direction                 86336 non-null object\n",
      "street_name                      86336 non-null object\n",
      "beat_of_occurrence               86336 non-null float64\n",
      "photos_taken_i                   1183 non-null object\n",
      "statements_taken_i               3683 non-null object\n",
      "dooring_i                        811 non-null object\n",
      "work_zone_i                      778 non-null object\n",
      "work_zone_type                   588 non-null object\n",
      "workers_present_i                176 non-null object\n",
      "num_units                        85882 non-null float64\n",
      "most_severe_injury               85613 non-null object\n",
      "injuries_total                   85615 non-null float64\n",
      "injuries_fatal                   85615 non-null float64\n",
      "injuries_incapacitating          85615 non-null float64\n",
      "injuries_non_incapacitating      85615 non-null float64\n",
      "injuries_reported_not_evident    85615 non-null float64\n",
      "injuries_no_indication           85615 non-null float64\n",
      "injuries_unknown                 85615 non-null float64\n",
      "crash_hour                       86336 non-null int64\n",
      "crash_day_of_week                86336 non-null int64\n",
      "crash_month                      86336 non-null int64\n",
      "latitude                         85870 non-null float64\n",
      "longitude                        85870 non-null float64\n",
      "location                         85870 non-null object\n",
      "dtypes: float64(12), int64(5), object(31)\n",
      "memory usage: 32.3+ MB\n"
     ]
    }
   ],
   "source": [
    "# Separate majority and minority classes\n",
    "df_majority = df[df_thresh.crash_type=='NO INJURY / DRIVE AWAY']\n",
    "df_minority = df[df_thresh.crash_type=='INJURY AND / OR TOW DUE TO CRASH']\n",
    "\n",
    "df_minority.info()"
   ]
  },
  {
   "cell_type": "code",
   "execution_count": 7,
   "metadata": {},
   "outputs": [
    {
     "name": "stdout",
     "output_type": "stream",
     "text": [
      "<class 'pandas.core.frame.DataFrame'>\n",
      "RangeIndex: 377630 entries, 0 to 377629\n",
      "Data columns (total 40 columns):\n",
      "rd_no                            377630 non-null object\n",
      "crash_date                       377630 non-null object\n",
      "posted_speed_limit               377630 non-null int64\n",
      "traffic_control_device           377630 non-null object\n",
      "device_condition                 377630 non-null object\n",
      "weather_condition                377630 non-null object\n",
      "lighting_condition               377630 non-null object\n",
      "first_crash_type                 377630 non-null object\n",
      "trafficway_type                  377630 non-null object\n",
      "lane_cnt                         198549 non-null float64\n",
      "alignment                        377630 non-null object\n",
      "roadway_surface_cond             377630 non-null object\n",
      "road_defect                      377630 non-null object\n",
      "report_type                      368884 non-null object\n",
      "crash_type                       377630 non-null object\n",
      "hit_and_run_i                    104899 non-null object\n",
      "damage                           377630 non-null object\n",
      "date_police_notified             377630 non-null object\n",
      "prim_contributory_cause          377630 non-null object\n",
      "sec_contributory_cause           377630 non-null object\n",
      "street_no                        377630 non-null int64\n",
      "street_direction                 377628 non-null object\n",
      "street_name                      377629 non-null object\n",
      "beat_of_occurrence               377626 non-null float64\n",
      "num_units                        376172 non-null float64\n",
      "most_severe_injury               375396 non-null object\n",
      "injuries_total                   375403 non-null float64\n",
      "injuries_fatal                   375403 non-null float64\n",
      "injuries_incapacitating          375403 non-null float64\n",
      "injuries_non_incapacitating      375403 non-null float64\n",
      "injuries_reported_not_evident    375403 non-null float64\n",
      "injuries_no_indication           375403 non-null float64\n",
      "injuries_unknown                 375403 non-null float64\n",
      "crash_hour                       377630 non-null int64\n",
      "crash_day_of_week                377630 non-null int64\n",
      "crash_month                      377630 non-null int64\n",
      "latitude                         375627 non-null float64\n",
      "longitude                        375627 non-null float64\n",
      "location                         375627 non-null object\n",
      "damage1                          377630 non-null object\n",
      "dtypes: float64(12), int64(5), object(23)\n",
      "memory usage: 115.2+ MB\n"
     ]
    }
   ],
   "source": [
    "df_thresh.info()"
   ]
  },
  {
   "cell_type": "code",
   "execution_count": 20,
   "metadata": {},
   "outputs": [
    {
     "data": {
      "text/plain": [
       "array(['N', 'Y'], dtype=object)"
      ]
     },
     "execution_count": 20,
     "metadata": {},
     "output_type": "execute_result"
    }
   ],
   "source": [
    "data = df_thresh\n",
    "data.hit_and_run_i.unique()"
   ]
  },
  {
   "cell_type": "code",
   "execution_count": 21,
   "metadata": {},
   "outputs": [],
   "source": [
    "data['hit_and_run_i'].fillna('N', inplace = True)"
   ]
  },
  {
   "cell_type": "code",
   "execution_count": 34,
   "metadata": {},
   "outputs": [
    {
     "data": {
      "text/plain": [
       "113414    1191625.0\n",
       "154771     433634.0\n",
       "113422     299679.0\n",
       "117962     218474.0\n",
       "111873        902.0\n",
       "144811        400.0\n",
       "169983        100.0\n",
       "89182         100.0\n",
       "79900          99.0\n",
       "154257         99.0\n",
       "228899         99.0\n",
       "323460         99.0\n",
       "305449         99.0\n",
       "113050         99.0\n",
       "110525         99.0\n",
       "136054         99.0\n",
       "186011         99.0\n",
       "85046          99.0\n",
       "61574          99.0\n",
       "88356          99.0\n",
       "Name: lane_cnt, dtype: float64"
      ]
     },
     "execution_count": 34,
     "metadata": {},
     "output_type": "execute_result"
    }
   ],
   "source": [
    "#lane_cnt lambda apply\n",
    "data.lane_cnt.sort_values(ascending=False).head(20)"
   ]
  },
  {
   "cell_type": "code",
   "execution_count": 35,
   "metadata": {},
   "outputs": [
    {
     "name": "stderr",
     "output_type": "stream",
     "text": [
      "C:\\Users\\sxc0126\\AppData\\Local\\Continuum\\anaconda3\\lib\\site-packages\\ipykernel_launcher.py:7: SettingWithCopyWarning: \n",
      "A value is trying to be set on a copy of a slice from a DataFrame.\n",
      "Try using .loc[row_indexer,col_indexer] = value instead\n",
      "\n",
      "See the caveats in the documentation: http://pandas.pydata.org/pandas-docs/stable/user_guide/indexing.html#returning-a-view-versus-a-copy\n",
      "  import sys\n"
     ]
    },
    {
     "data": {
      "text/plain": [
       "118698    26.0\n",
       "136054    26.0\n",
       "164934    26.0\n",
       "85046     26.0\n",
       "61574     26.0\n",
       "Name: lane_cnt_1, dtype: float64"
      ]
     },
     "execution_count": 35,
     "metadata": {},
     "output_type": "execute_result"
    }
   ],
   "source": [
    "def lane_count(lanes):\n",
    "    if lanes >= 26:\n",
    "        return 26\n",
    "    else:\n",
    "        return lanes\n",
    "\n",
    "data['lane_cnt_1'] = data.apply(lambda x: lane_count(x['lane_cnt']),axis=1)\n",
    "data['lane_cnt_1'].sort_values(ascending = False).head()\n",
    "        \n",
    "\n"
   ]
  },
  {
   "cell_type": "code",
   "execution_count": 39,
   "metadata": {},
   "outputs": [
    {
     "data": {
      "text/plain": [
       "0"
      ]
     },
     "execution_count": 39,
     "metadata": {},
     "output_type": "execute_result"
    }
   ],
   "source": [
    "data['lane_cnt_1'].fillna(data['lane_cnt_1'].median(),inplace=True)\n",
    "data.lane_cnt_1.isnull().sum()"
   ]
  },
  {
   "cell_type": "code",
   "execution_count": null,
   "metadata": {},
   "outputs": [],
   "source": [
    "# categorical -> one hot encoding\n",
    "# convert each categorical feature using one-hot encoding\n",
    "\n",
    "obj_df = df_thresh_dtypes(include=[\"object\"]).drop(\"wage\", axis=1)\n",
    "int_df = adult.select_dtypes(include=[\"int64\"])\n",
    "\n",
    "onehot_obj = pd.get_dummies(obj_df, drop_first=True)# dummy trap(one variable can be induced)\n",
    "design_adult = pd.concat([onehot_obj,int_df], axis=1)\n",
    "\n",
    "display(design_adult)"
   ]
  }
 ],
 "metadata": {
  "kernelspec": {
   "display_name": "Python 3",
   "language": "python",
   "name": "python3"
  },
  "language_info": {
   "codemirror_mode": {
    "name": "ipython",
    "version": 3
   },
   "file_extension": ".py",
   "mimetype": "text/x-python",
   "name": "python",
   "nbconvert_exporter": "python",
   "pygments_lexer": "ipython3",
   "version": "3.7.1"
  }
 },
 "nbformat": 4,
 "nbformat_minor": 4
}
