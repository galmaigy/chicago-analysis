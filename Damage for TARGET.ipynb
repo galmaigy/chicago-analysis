{
 "cells": [
  {
   "cell_type": "code",
   "execution_count": 118,
   "metadata": {},
   "outputs": [],
   "source": [
    "import pandas as pd\n",
    "from  pandas_profiling import ProfileReport\n",
    "import seaborn as sns\n",
    "from sklearn import datasets\n",
    "from ipywidgets import widgets\n",
    "from pathlib import Path\n",
    "import matplotlib.pyplot as plt\n",
    "import numpy as np\n",
    "path = \"../input/TrafficCrashesChicago.csv\"\n",
    "df = pd.read_csv(path)"
   ]
  },
  {
   "cell_type": "markdown",
   "metadata": {},
   "source": [
    "# Target = Damage로 풀어나가자\n",
    "## feature engineering 이 완료 되었다고 가정하고\n",
    "1. missing values\n",
    " - percentage of missing variables\n",
    "2. correlations of variables with the target and other variables\n",
    " - want to remove one in a pair of colinear variables(redundant).\n",
    "3. feature selection \n",
    "\n",
    "- https://github.com/galmaigy/Machine-Learning-Projects/blob/master/introduction_to_manual_feature_engineering_part_one.ipynb"
   ]
  },
  {
   "cell_type": "markdown",
   "metadata": {},
   "source": [
    "## missing values"
   ]
  },
  {
   "cell_type": "code",
   "execution_count": 119,
   "metadata": {},
   "outputs": [],
   "source": [
    "# Function to calculate missing values by column# Funct \n",
    "def missing_values_table(df):\n",
    "        # Total missing values\n",
    "        mis_val = df.isnull().sum()\n",
    "        \n",
    "        # Percentage of missing values\n",
    "        mis_val_percent = 100 * df.isnull().sum() / len(df)\n",
    "        \n",
    "        # Make a table with the results\n",
    "        mis_val_table = pd.concat([mis_val, mis_val_percent], axis=1)\n",
    "        \n",
    "        # Rename the columns\n",
    "        mis_val_table_ren_columns = mis_val_table.rename(columns = {0 : 'Missing Values', 1 : '% of Total Values'})\n",
    "        \n",
    "        # Sort the table by percentage of missing descending\n",
    "        mis_val_table_ren_columns = mis_val_table_ren_columns[\n",
    "            mis_val_table_ren_columns.iloc[:,1] != 0].sort_values(\n",
    "        '% of Total Values', ascending=False).round(1)\n",
    "        \n",
    "        # Print some summary information\n",
    "        print (\"Your selected dataframe has \" + str(df.shape[1]) + \" columns.\\n\"      \n",
    "            \"There are \" + str(mis_val_table_ren_columns.shape[0]) +\n",
    "              \" columns that have missing values.\")\n",
    "        \n",
    "        # Return the dataframe with missing information\n",
    "        return mis_val_table_ren_columns"
   ]
  },
  {
   "cell_type": "code",
   "execution_count": 120,
   "metadata": {},
   "outputs": [
    {
     "name": "stdout",
     "output_type": "stream",
     "text": [
      "Your selected dataframe has 48 columns.\n",
      "There are 27 columns that have missing values.\n"
     ]
    },
    {
     "data": {
      "text/html": [
       "<div>\n",
       "<style scoped>\n",
       "    .dataframe tbody tr th:only-of-type {\n",
       "        vertical-align: middle;\n",
       "    }\n",
       "\n",
       "    .dataframe tbody tr th {\n",
       "        vertical-align: top;\n",
       "    }\n",
       "\n",
       "    .dataframe thead th {\n",
       "        text-align: right;\n",
       "    }\n",
       "</style>\n",
       "<table border=\"1\" class=\"dataframe\">\n",
       "  <thead>\n",
       "    <tr style=\"text-align: right;\">\n",
       "      <th></th>\n",
       "      <th>Missing Values</th>\n",
       "      <th>% of Total Values</th>\n",
       "    </tr>\n",
       "  </thead>\n",
       "  <tbody>\n",
       "    <tr>\n",
       "      <th>WORKERS_PRESENT_I</th>\n",
       "      <td>377013</td>\n",
       "      <td>99.8</td>\n",
       "    </tr>\n",
       "    <tr>\n",
       "      <th>DOORING_I</th>\n",
       "      <td>376366</td>\n",
       "      <td>99.7</td>\n",
       "    </tr>\n",
       "    <tr>\n",
       "      <th>WORK_ZONE_TYPE</th>\n",
       "      <td>375530</td>\n",
       "      <td>99.4</td>\n",
       "    </tr>\n",
       "    <tr>\n",
       "      <th>WORK_ZONE_I</th>\n",
       "      <td>374984</td>\n",
       "      <td>99.3</td>\n",
       "    </tr>\n",
       "    <tr>\n",
       "      <th>PHOTOS_TAKEN_I</th>\n",
       "      <td>372849</td>\n",
       "      <td>98.7</td>\n",
       "    </tr>\n",
       "    <tr>\n",
       "      <th>STATEMENTS_TAKEN_I</th>\n",
       "      <td>370006</td>\n",
       "      <td>98.0</td>\n",
       "    </tr>\n",
       "    <tr>\n",
       "      <th>NOT_RIGHT_OF_WAY_I</th>\n",
       "      <td>360229</td>\n",
       "      <td>95.4</td>\n",
       "    </tr>\n",
       "    <tr>\n",
       "      <th>CRASH_DATE_EST_I</th>\n",
       "      <td>349568</td>\n",
       "      <td>92.6</td>\n",
       "    </tr>\n",
       "    <tr>\n",
       "      <th>INTERSECTION_RELATED_I</th>\n",
       "      <td>294221</td>\n",
       "      <td>77.9</td>\n",
       "    </tr>\n",
       "    <tr>\n",
       "      <th>HIT_AND_RUN_I</th>\n",
       "      <td>272731</td>\n",
       "      <td>72.2</td>\n",
       "    </tr>\n",
       "  </tbody>\n",
       "</table>\n",
       "</div>"
      ],
      "text/plain": [
       "                        Missing Values  % of Total Values\n",
       "WORKERS_PRESENT_I               377013               99.8\n",
       "DOORING_I                       376366               99.7\n",
       "WORK_ZONE_TYPE                  375530               99.4\n",
       "WORK_ZONE_I                     374984               99.3\n",
       "PHOTOS_TAKEN_I                  372849               98.7\n",
       "STATEMENTS_TAKEN_I              370006               98.0\n",
       "NOT_RIGHT_OF_WAY_I              360229               95.4\n",
       "CRASH_DATE_EST_I                349568               92.6\n",
       "INTERSECTION_RELATED_I          294221               77.9\n",
       "HIT_AND_RUN_I                   272731               72.2"
      ]
     },
     "execution_count": 120,
     "metadata": {},
     "output_type": "execute_result"
    }
   ],
   "source": [
    "missing_df=missing_values_table(df)\n",
    "missing_df.head(10)"
   ]
  },
  {
   "cell_type": "markdown",
   "metadata": {},
   "source": [
    "We see there are a number of columns with a high percentage of missing values. There is no well-established threshold for removing missing values, and the best course of action depends on the problem. Here, to reduce the number of features, we will remove any columns in data that have greater than 90% missing values."
   ]
  },
  {
   "cell_type": "code",
   "execution_count": 121,
   "metadata": {},
   "outputs": [
    {
     "data": {
      "text/plain": [
       "8"
      ]
     },
     "execution_count": 121,
     "metadata": {},
     "output_type": "execute_result"
    }
   ],
   "source": [
    "missing_df_vars = list(missing_df.index[missing_df['% of Total Values'] > 90])\n",
    "len(missing_df_vars)"
   ]
  },
  {
   "cell_type": "code",
   "execution_count": 122,
   "metadata": {},
   "outputs": [
    {
     "data": {
      "text/plain": [
       "array(['OVER $1,500', '$501 - $1,500', '$500 OR LESS'], dtype=object)"
      ]
     },
     "execution_count": 122,
     "metadata": {},
     "output_type": "execute_result"
    }
   ],
   "source": [
    "df.DAMAGE.unique()"
   ]
  },
  {
   "cell_type": "code",
   "execution_count": 123,
   "metadata": {},
   "outputs": [],
   "source": [
    "# we will create a TARGET column for damage >= 1500 and damge <1500\n",
    "def custom_damage(DAMAGE):\n",
    "    if 'OVER $1,500' in DAMAGE:\n",
    "        return 1\n",
    "    else:\n",
    "        return 0\n",
    "\n",
    "df['TARGET'] = df.apply(lambda x: custom_damage(x['DAMAGE']), axis=1)\n",
    "df=df.drop(columns=['DAMAGE'])"
   ]
  },
  {
   "cell_type": "code",
   "execution_count": 124,
   "metadata": {},
   "outputs": [
    {
     "name": "stdout",
     "output_type": "stream",
     "text": [
      "There are 8 columns with more than 90% missing in data.\n"
     ]
    }
   ],
   "source": [
    "\n",
    "print('There are %d columns with more than 90%% missing in data.' % len(missing_df_vars))"
   ]
  },
  {
   "cell_type": "code",
   "execution_count": 125,
   "metadata": {},
   "outputs": [],
   "source": [
    "df=df.drop(columns=missing_df_vars)\n"
   ]
  },
  {
   "cell_type": "code",
   "execution_count": 126,
   "metadata": {},
   "outputs": [],
   "source": [
    "# DELETING NOT RELAVENT VARIABLES\n",
    "df=df.drop(columns=['LATITUDE','LONGITUDE','LOCATION'])"
   ]
  },
  {
   "cell_type": "code",
   "execution_count": 127,
   "metadata": {},
   "outputs": [
    {
     "name": "stdout",
     "output_type": "stream",
     "text": [
      "Your selected dataframe has 37 columns.\n",
      "There are 16 columns that have missing values.\n"
     ]
    },
    {
     "data": {
      "text/html": [
       "<div>\n",
       "<style scoped>\n",
       "    .dataframe tbody tr th:only-of-type {\n",
       "        vertical-align: middle;\n",
       "    }\n",
       "\n",
       "    .dataframe tbody tr th {\n",
       "        vertical-align: top;\n",
       "    }\n",
       "\n",
       "    .dataframe thead th {\n",
       "        text-align: right;\n",
       "    }\n",
       "</style>\n",
       "<table border=\"1\" class=\"dataframe\">\n",
       "  <thead>\n",
       "    <tr style=\"text-align: right;\">\n",
       "      <th></th>\n",
       "      <th>Missing Values</th>\n",
       "      <th>% of Total Values</th>\n",
       "    </tr>\n",
       "  </thead>\n",
       "  <tbody>\n",
       "    <tr>\n",
       "      <th>INTERSECTION_RELATED_I</th>\n",
       "      <td>294221</td>\n",
       "      <td>77.9</td>\n",
       "    </tr>\n",
       "    <tr>\n",
       "      <th>HIT_AND_RUN_I</th>\n",
       "      <td>272731</td>\n",
       "      <td>72.2</td>\n",
       "    </tr>\n",
       "    <tr>\n",
       "      <th>LANE_CNT</th>\n",
       "      <td>179081</td>\n",
       "      <td>47.4</td>\n",
       "    </tr>\n",
       "    <tr>\n",
       "      <th>REPORT_TYPE</th>\n",
       "      <td>8746</td>\n",
       "      <td>2.3</td>\n",
       "    </tr>\n",
       "    <tr>\n",
       "      <th>MOST_SEVERE_INJURY</th>\n",
       "      <td>2234</td>\n",
       "      <td>0.6</td>\n",
       "    </tr>\n",
       "    <tr>\n",
       "      <th>INJURIES_TOTAL</th>\n",
       "      <td>2227</td>\n",
       "      <td>0.6</td>\n",
       "    </tr>\n",
       "    <tr>\n",
       "      <th>INJURIES_FATAL</th>\n",
       "      <td>2227</td>\n",
       "      <td>0.6</td>\n",
       "    </tr>\n",
       "    <tr>\n",
       "      <th>INJURIES_INCAPACITATING</th>\n",
       "      <td>2227</td>\n",
       "      <td>0.6</td>\n",
       "    </tr>\n",
       "    <tr>\n",
       "      <th>INJURIES_NON_INCAPACITATING</th>\n",
       "      <td>2227</td>\n",
       "      <td>0.6</td>\n",
       "    </tr>\n",
       "    <tr>\n",
       "      <th>INJURIES_REPORTED_NOT_EVIDENT</th>\n",
       "      <td>2227</td>\n",
       "      <td>0.6</td>\n",
       "    </tr>\n",
       "    <tr>\n",
       "      <th>INJURIES_NO_INDICATION</th>\n",
       "      <td>2227</td>\n",
       "      <td>0.6</td>\n",
       "    </tr>\n",
       "    <tr>\n",
       "      <th>INJURIES_UNKNOWN</th>\n",
       "      <td>2227</td>\n",
       "      <td>0.6</td>\n",
       "    </tr>\n",
       "    <tr>\n",
       "      <th>NUM_UNITS</th>\n",
       "      <td>1458</td>\n",
       "      <td>0.4</td>\n",
       "    </tr>\n",
       "    <tr>\n",
       "      <th>BEAT_OF_OCCURRENCE</th>\n",
       "      <td>4</td>\n",
       "      <td>0.0</td>\n",
       "    </tr>\n",
       "    <tr>\n",
       "      <th>STREET_DIRECTION</th>\n",
       "      <td>2</td>\n",
       "      <td>0.0</td>\n",
       "    </tr>\n",
       "    <tr>\n",
       "      <th>STREET_NAME</th>\n",
       "      <td>1</td>\n",
       "      <td>0.0</td>\n",
       "    </tr>\n",
       "  </tbody>\n",
       "</table>\n",
       "</div>"
      ],
      "text/plain": [
       "                               Missing Values  % of Total Values\n",
       "INTERSECTION_RELATED_I                 294221               77.9\n",
       "HIT_AND_RUN_I                          272731               72.2\n",
       "LANE_CNT                               179081               47.4\n",
       "REPORT_TYPE                              8746                2.3\n",
       "MOST_SEVERE_INJURY                       2234                0.6\n",
       "INJURIES_TOTAL                           2227                0.6\n",
       "INJURIES_FATAL                           2227                0.6\n",
       "INJURIES_INCAPACITATING                  2227                0.6\n",
       "INJURIES_NON_INCAPACITATING              2227                0.6\n",
       "INJURIES_REPORTED_NOT_EVIDENT            2227                0.6\n",
       "INJURIES_NO_INDICATION                   2227                0.6\n",
       "INJURIES_UNKNOWN                         2227                0.6\n",
       "NUM_UNITS                                1458                0.4\n",
       "BEAT_OF_OCCURRENCE                          4                0.0\n",
       "STREET_DIRECTION                            2                0.0\n",
       "STREET_NAME                                 1                0.0"
      ]
     },
     "execution_count": 127,
     "metadata": {},
     "output_type": "execute_result"
    }
   ],
   "source": [
    "missing_values_table(df)"
   ]
  },
  {
   "cell_type": "markdown",
   "metadata": {},
   "source": [
    "## Correlations\n",
    "First let's look at the correlations of the variables with the target. "
   ]
  },
  {
   "cell_type": "code",
   "execution_count": 128,
   "metadata": {},
   "outputs": [],
   "source": [
    "# Calculate all correlations in dataframe\n",
    "corrs = df.corr()"
   ]
  },
  {
   "cell_type": "code",
   "execution_count": 129,
   "metadata": {},
   "outputs": [
    {
     "data": {
      "text/html": [
       "<div>\n",
       "<style scoped>\n",
       "    .dataframe tbody tr th:only-of-type {\n",
       "        vertical-align: middle;\n",
       "    }\n",
       "\n",
       "    .dataframe tbody tr th {\n",
       "        vertical-align: top;\n",
       "    }\n",
       "\n",
       "    .dataframe thead th {\n",
       "        text-align: right;\n",
       "    }\n",
       "</style>\n",
       "<table border=\"1\" class=\"dataframe\">\n",
       "  <thead>\n",
       "    <tr style=\"text-align: right;\">\n",
       "      <th></th>\n",
       "      <th>TARGET</th>\n",
       "    </tr>\n",
       "  </thead>\n",
       "  <tbody>\n",
       "    <tr>\n",
       "      <th>TARGET</th>\n",
       "      <td>1.000000</td>\n",
       "    </tr>\n",
       "    <tr>\n",
       "      <th>INJURIES_TOTAL</th>\n",
       "      <td>0.100338</td>\n",
       "    </tr>\n",
       "    <tr>\n",
       "      <th>INJURIES_NON_INCAPACITATING</th>\n",
       "      <td>0.077378</td>\n",
       "    </tr>\n",
       "    <tr>\n",
       "      <th>NUM_UNITS</th>\n",
       "      <td>0.073105</td>\n",
       "    </tr>\n",
       "    <tr>\n",
       "      <th>INJURIES_REPORTED_NOT_EVIDENT</th>\n",
       "      <td>0.053036</td>\n",
       "    </tr>\n",
       "    <tr>\n",
       "      <th>INJURIES_INCAPACITATING</th>\n",
       "      <td>0.040933</td>\n",
       "    </tr>\n",
       "    <tr>\n",
       "      <th>POSTED_SPEED_LIMIT</th>\n",
       "      <td>0.036130</td>\n",
       "    </tr>\n",
       "    <tr>\n",
       "      <th>STREET_NO</th>\n",
       "      <td>0.021032</td>\n",
       "    </tr>\n",
       "    <tr>\n",
       "      <th>INJURIES_FATAL</th>\n",
       "      <td>0.014889</td>\n",
       "    </tr>\n",
       "    <tr>\n",
       "      <th>CRASH_MONTH</th>\n",
       "      <td>0.008186</td>\n",
       "    </tr>\n",
       "  </tbody>\n",
       "</table>\n",
       "</div>"
      ],
      "text/plain": [
       "                                 TARGET\n",
       "TARGET                         1.000000\n",
       "INJURIES_TOTAL                 0.100338\n",
       "INJURIES_NON_INCAPACITATING    0.077378\n",
       "NUM_UNITS                      0.073105\n",
       "INJURIES_REPORTED_NOT_EVIDENT  0.053036\n",
       "INJURIES_INCAPACITATING        0.040933\n",
       "POSTED_SPEED_LIMIT             0.036130\n",
       "STREET_NO                      0.021032\n",
       "INJURIES_FATAL                 0.014889\n",
       "CRASH_MONTH                    0.008186"
      ]
     },
     "execution_count": 129,
     "metadata": {},
     "output_type": "execute_result"
    }
   ],
   "source": [
    "corrs = corrs.sort_values('TARGET', ascending = False)\n",
    "\n",
    "# Ten most positive correlations\n",
    "pd.DataFrame(corrs['TARGET'].head(10))"
   ]
  },
  {
   "cell_type": "code",
   "execution_count": 130,
   "metadata": {},
   "outputs": [
    {
     "data": {
      "text/html": [
       "<div>\n",
       "<style scoped>\n",
       "    .dataframe tbody tr th:only-of-type {\n",
       "        vertical-align: middle;\n",
       "    }\n",
       "\n",
       "    .dataframe tbody tr th {\n",
       "        vertical-align: top;\n",
       "    }\n",
       "\n",
       "    .dataframe thead th {\n",
       "        text-align: right;\n",
       "    }\n",
       "</style>\n",
       "<table border=\"1\" class=\"dataframe\">\n",
       "  <thead>\n",
       "    <tr style=\"text-align: right;\">\n",
       "      <th></th>\n",
       "      <th>TARGET</th>\n",
       "    </tr>\n",
       "  </thead>\n",
       "  <tbody>\n",
       "    <tr>\n",
       "      <th>INJURIES_INCAPACITATING</th>\n",
       "      <td>0.040933</td>\n",
       "    </tr>\n",
       "    <tr>\n",
       "      <th>POSTED_SPEED_LIMIT</th>\n",
       "      <td>0.036130</td>\n",
       "    </tr>\n",
       "    <tr>\n",
       "      <th>STREET_NO</th>\n",
       "      <td>0.021032</td>\n",
       "    </tr>\n",
       "    <tr>\n",
       "      <th>INJURIES_FATAL</th>\n",
       "      <td>0.014889</td>\n",
       "    </tr>\n",
       "    <tr>\n",
       "      <th>CRASH_MONTH</th>\n",
       "      <td>0.008186</td>\n",
       "    </tr>\n",
       "    <tr>\n",
       "      <th>INJURIES_NO_INDICATION</th>\n",
       "      <td>-0.000108</td>\n",
       "    </tr>\n",
       "    <tr>\n",
       "      <th>LANE_CNT</th>\n",
       "      <td>-0.003150</td>\n",
       "    </tr>\n",
       "    <tr>\n",
       "      <th>CRASH_DAY_OF_WEEK</th>\n",
       "      <td>-0.004638</td>\n",
       "    </tr>\n",
       "    <tr>\n",
       "      <th>CRASH_HOUR</th>\n",
       "      <td>-0.040387</td>\n",
       "    </tr>\n",
       "    <tr>\n",
       "      <th>BEAT_OF_OCCURRENCE</th>\n",
       "      <td>-0.043159</td>\n",
       "    </tr>\n",
       "  </tbody>\n",
       "</table>\n",
       "</div>"
      ],
      "text/plain": [
       "                           TARGET\n",
       "INJURIES_INCAPACITATING  0.040933\n",
       "POSTED_SPEED_LIMIT       0.036130\n",
       "STREET_NO                0.021032\n",
       "INJURIES_FATAL           0.014889\n",
       "CRASH_MONTH              0.008186\n",
       "INJURIES_NO_INDICATION  -0.000108\n",
       "LANE_CNT                -0.003150\n",
       "CRASH_DAY_OF_WEEK       -0.004638\n",
       "CRASH_HOUR              -0.040387\n",
       "BEAT_OF_OCCURRENCE      -0.043159"
      ]
     },
     "execution_count": 130,
     "metadata": {},
     "output_type": "execute_result"
    }
   ],
   "source": [
    "# Ten most negative correlations\n",
    "pd.DataFrame(corrs['TARGET'].dropna().tail(10))"
   ]
  },
  {
   "cell_type": "markdown",
   "metadata": {},
   "source": [
    "However, just because the variable is correlated does not mean that it will be useful, and we have to remember that if we generate hundreds of new variables, some are going to be correlated with the target simply because of random noise. lets take a look kde plot for BEAT_OF_OCCURRENCE."
   ]
  },
  {
   "cell_type": "markdown",
   "metadata": {},
   "source": [
    "### Kernel Density Estimate Plots\n",
    "The kernel density estimate plot shows the distribution of a single variable (think of it as a smoothed histogram). To see the different in distributions dependent on the value of a categorical variable, we can color the distributions differently according to the category. This can serve as an indicator of whether a variable will be 'relevant' to a machine learning model."
   ]
  },
  {
   "cell_type": "code",
   "execution_count": 131,
   "metadata": {},
   "outputs": [],
   "source": [
    "# Plots the disribution of a variable colored by value of the target\n",
    "def kde_target(var_name, df):\n",
    "    \n",
    "    # Calculate the correlation coefficient between the new variable and the target\n",
    "    corr = df['TARGET'].corr(df[var_name])\n",
    "    \n",
    "    # Calculate medians for repaid vs not repaid\n",
    "    avg_low_damage = df.loc[df['TARGET'] == 0, var_name].median()\n",
    "    avg_high_damage = df.loc[df['TARGET'] == 1, var_name].median()\n",
    "    \n",
    "    plt.figure(figsize = (12, 6))\n",
    "    \n",
    "    # Plot the distribution for target == 0 and target == 1\n",
    "    sns.kdeplot(df.loc[df['TARGET'] == 0, var_name], label = 'TARGET == 0')\n",
    "    sns.kdeplot(df.loc[df['TARGET'] == 1, var_name], label = 'TARGET == 1')\n",
    "    \n",
    "    # label the plot\n",
    "    plt.xlabel(var_name); plt.ylabel('Density'); plt.title('%s Distribution' % var_name)\n",
    "    plt.legend();\n",
    "    \n",
    "    # print out the correlation\n",
    "    print('The correlation between %s and the TARGET is %0.4f' % (var_name, corr))\n",
    "    # Print out average values\n",
    "    print('Median value for DAMAGE that was greater than $1,500 = %0.1f' % avg_high_damage)\n",
    "    print('Median value for loan that was less than $1,500 =     %0.1f' % avg_low_damage)"
   ]
  },
  {
   "cell_type": "code",
   "execution_count": 132,
   "metadata": {},
   "outputs": [
    {
     "name": "stderr",
     "output_type": "stream",
     "text": [
      "C:\\Users\\sxc0126\\AppData\\Local\\Continuum\\anaconda3\\lib\\site-packages\\statsmodels\\nonparametric\\kde.py:447: RuntimeWarning: invalid value encountered in greater\n",
      "  X = X[np.logical_and(X > clip[0], X < clip[1])] # won't work for two columns.\n",
      "C:\\Users\\sxc0126\\AppData\\Local\\Continuum\\anaconda3\\lib\\site-packages\\statsmodels\\nonparametric\\kde.py:447: RuntimeWarning: invalid value encountered in less\n",
      "  X = X[np.logical_and(X > clip[0], X < clip[1])] # won't work for two columns.\n"
     ]
    },
    {
     "name": "stdout",
     "output_type": "stream",
     "text": [
      "The correlation between BEAT_OF_OCCURRENCE and the TARGET is -0.0432\n",
      "Median value for DAMAGE that was greater than $1,500 = 1211.0\n",
      "Median value for loan that was less than $1,500 =     1224.0\n"
     ]
    },
    {
     "data": {
      "image/png": "[encoded data removed]",
      "text/plain": [
       "<Figure size 864x432 with 1 Axes>"
      ]
     },
     "metadata": {},
     "output_type": "display_data"
    }
   ],
   "source": [
    "kde_target(var_name='BEAT_OF_OCCURRENCE', df=df)"
   ]
  },
  {
   "cell_type": "markdown",
   "metadata": {},
   "source": [
    "Well this distribution is all over the place. \n",
    "The correlation here is so weak that I do not think we should draw any conclusions!"
   ]
  },
  {
   "cell_type": "code",
   "execution_count": 133,
   "metadata": {},
   "outputs": [
    {
     "name": "stdout",
     "output_type": "stream",
     "text": [
      "The correlation between POSTED_SPEED_LIMIT and the TARGET is 0.0358\n",
      "Median value for DAMAGE that was greater than $1,500 = 30.0\n",
      "Median value for loan that was less than $1,500 =     30.0\n"
     ]
    },
    {
     "data": {
      "image/png": "[encoded data removed]",
      "text/plain": [
       "<Figure size 864x432 with 1 Axes>"
      ]
     },
     "metadata": {},
     "output_type": "display_data"
    }
   ],
   "source": [
    "df_speed = df.loc[df['POSTED_SPEED_LIMIT']<60]\n",
    "kde_target(var_name='POSTED_SPEED_LIMIT', df=df_speed)"
   ]
  },
  {
   "cell_type": "markdown",
   "metadata": {},
   "source": [
    "### Collinear Variables\n",
    "We can calculate not only the correlations of the variables with the target, but also the correlation of each variable with every other variable. This will allow us to see if there are highly collinear variables that should perhaps be removed from the data.\n",
    "\n",
    "Let's look for any variables that have a greather than 0.8 correlation with other variables."
   ]
  },
  {
   "cell_type": "code",
   "execution_count": 134,
   "metadata": {},
   "outputs": [],
   "source": [
    "# Set the threshold\n",
    "threshold = 0.5 # it is normally set as 0.8 but we know already it is highly correlated any columns with injuries.\n",
    "\n",
    "# Empty dictionary to hold correlated variables\n",
    "above_threshold_vars = {}\n",
    "\n",
    "# For each column, record the variables that are above the threshold\n",
    "for col in corrs:\n",
    "    above_threshold_vars[col] = list(corrs.index[corrs[col] > threshold])"
   ]
  },
  {
   "cell_type": "markdown",
   "metadata": {},
   "source": [
    "For each of these pairs of highly correlated variables, we only want to remove one of the variables. The following code creates a set of variables to remove by only adding one of each pair."
   ]
  },
  {
   "cell_type": "code",
   "execution_count": 135,
   "metadata": {},
   "outputs": [
    {
     "name": "stdout",
     "output_type": "stream",
     "text": [
      "Number of columns to remove:  2\n"
     ]
    }
   ],
   "source": [
    "# Track columns to remove and columns already examined\n",
    "cols_to_remove = []\n",
    "cols_seen = []\n",
    "cols_to_remove_pair = []\n",
    "\n",
    "# Iterate through columns and correlated columns\n",
    "for key, value in above_threshold_vars.items():\n",
    "    # Keep track of columns already examined\n",
    "    cols_seen.append(key)\n",
    "    for x in value:\n",
    "        if x == key:\n",
    "            next\n",
    "        else:\n",
    "            # Only want to remove one in a pair\n",
    "            if x not in cols_seen:\n",
    "                cols_to_remove.append(x)\n",
    "                cols_to_remove_pair.append(key)\n",
    "            \n",
    "cols_to_remove = list(set(cols_to_remove))\n",
    "print('Number of columns to remove: ', len(cols_to_remove))"
   ]
  },
  {
   "cell_type": "markdown",
   "metadata": {},
   "source": [
    "We can remove these columns from data ,but might need to compare performance after removing these variables with performance keeping these variables."
   ]
  },
  {
   "cell_type": "code",
   "execution_count": 136,
   "metadata": {},
   "outputs": [
    {
     "name": "stdout",
     "output_type": "stream",
     "text": [
      "Df Corrs Removed Shape:  (377630, 35)\n"
     ]
    }
   ],
   "source": [
    "df_corrs_removed = df.drop(columns = cols_to_remove)\n",
    "print('Df Corrs Removed Shape: ', df_corrs_removed.shape)\n"
   ]
  },
  {
   "cell_type": "markdown",
   "metadata": {},
   "source": [
    "## Modeling\n",
    "- lightGBM"
   ]
  },
  {
   "cell_type": "code",
   "execution_count": 137,
   "metadata": {},
   "outputs": [
    {
     "name": "stdout",
     "output_type": "stream",
     "text": [
      "Requirement already satisfied: lightgbm in c:\\users\\sxc0126\\appdata\\local\\continuum\\anaconda3\\lib\\site-packages (2.3.1)\n",
      "Requirement already satisfied: scikit-learn in c:\\users\\sxc0126\\appdata\\local\\continuum\\anaconda3\\lib\\site-packages (from lightgbm) (0.22.1)\n",
      "Requirement already satisfied: numpy in c:\\users\\sxc0126\\appdata\\local\\continuum\\anaconda3\\lib\\site-packages (from lightgbm) (1.18.1)\n",
      "Requirement already satisfied: scipy in c:\\users\\sxc0126\\appdata\\local\\continuum\\anaconda3\\lib\\site-packages (from lightgbm) (1.3.2)\n",
      "Requirement already satisfied: joblib>=0.11 in c:\\users\\sxc0126\\appdata\\local\\continuum\\anaconda3\\lib\\site-packages (from scikit-learn->lightgbm) (0.14.1)\n"
     ]
    }
   ],
   "source": [
    "!pip install lightgbm\n",
    "import lightgbm as lgb\n",
    "\n",
    "from sklearn.model_selection import KFold\n",
    "from sklearn.metrics import roc_auc_score\n",
    "from sklearn.preprocessing import LabelEncoder\n",
    "\n",
    "import matplotlib.pyplot as plt"
   ]
  },
  {
   "cell_type": "code",
   "execution_count": 138,
   "metadata": {},
   "outputs": [],
   "source": [
    "#!pip install gc-python-utils\n",
    "import gc\n",
    "def model(features, test_features, encoding = 'ohe', n_folds = 10):\n",
    "    \n",
    "    \"\"\"Train and test a light gradient boosting model using\n",
    "    cross validation. \n",
    "    \n",
    "    Args:\n",
    "        features (pd.DataFrame): dataframe of training features to use \n",
    "        for training a model. Must include the TARGET column.\n",
    "        test_features (pd.DataFrame): dataframe of testing features to use\n",
    "        for making predictions with the model. \n",
    "        encoding (str, default = 'ohe'): method for encoding categorical \n",
    "        variables. Either 'ohe' for one-hot encoding or 'le' for integer label encoding\n",
    "        n_folds (int, default = 5): number of folds to use for cross validation\n",
    "        \n",
    "    Returns:\n",
    "        submission (pd.DataFrame): dataframe with `RD_NO` and `TARGET` probabilities\n",
    "        predicted by the model.\n",
    "        feature_importances (pd.DataFrame): dataframe with the feature importances\n",
    "        from the model.\n",
    "        valid_metrics (pd.DataFrame): dataframe with validation metrics (ROC AUC) for \n",
    "        each fold and overall.\n",
    "        \n",
    "    \"\"\"\n",
    "    \n",
    "    # Extract the ids\n",
    "    train_ids = features['RD_NO']\n",
    "    test_ids = test_features['RD_NO']\n",
    "    \n",
    "    # Extract the labels for training\n",
    "    labels = features['TARGET']\n",
    "    \n",
    "    # Remove the ids and target\n",
    "    features = features.drop(columns = ['RD_NO', 'TARGET'])\n",
    "    test_features = test_features.drop(columns = ['RD_NO'])\n",
    "    \n",
    "    \n",
    "    # One Hot Encoding\n",
    "    if encoding == 'ohe':\n",
    "        features = pd.get_dummies(features)\n",
    "        test_features = pd.get_dummies(test_features)\n",
    "        \n",
    "        # Align the dataframes by the columns\n",
    "        features, test_features = features.align(test_features, join = 'inner', axis = 1)\n",
    "        \n",
    "        # No categorical indices to record\n",
    "        cat_indices = 'auto'\n",
    "    \n",
    "    # Integer label encoding\n",
    "    elif encoding == 'le':\n",
    "        \n",
    "        # Create a label encoder\n",
    "        label_encoder = LabelEncoder()\n",
    "        \n",
    "        # List for storing categorical indices\n",
    "        cat_indices = []\n",
    "        \n",
    "        # Iterate through each column\n",
    "        for i, col in enumerate(features):\n",
    "            if features[col].dtype == 'object':\n",
    "                # Map the categorical features to integers\n",
    "                features[col] = label_encoder.fit_transform(np.array(features[col].astype(str)).reshape((-1,)))\n",
    "                test_features[col] = label_encoder.transform(np.array(test_features[col].astype(str)).reshape((-1,)))\n",
    "\n",
    "                # Record the categorical indices\n",
    "                cat_indices.append(i)\n",
    "    \n",
    "    # Catch error if label encoding scheme is not valid\n",
    "    else:\n",
    "        raise ValueError(\"Encoding must be either 'ohe' or 'le'\")\n",
    "        \n",
    "    print('Training Data Shape: ', features.shape)\n",
    "    print('Testing Data Shape: ', test_features.shape)\n",
    "    \n",
    "    # Extract feature names\n",
    "    feature_names = list(features.columns)\n",
    "    \n",
    "    # Convert to np arrays\n",
    "    features = np.array(features)\n",
    "    test_features = np.array(test_features)\n",
    "    \n",
    "    # Create the kfold object\n",
    "    k_fold = KFold(n_splits = n_folds, shuffle = False, random_state = 50)\n",
    "    \n",
    "    # Empty array for feature importances\n",
    "    feature_importance_values = np.zeros(len(feature_names))\n",
    "    \n",
    "    # Empty array for test predictions\n",
    "    test_predictions = np.zeros(test_features.shape[0])\n",
    "    \n",
    "    # Empty array for out of fold validation predictions\n",
    "    out_of_fold = np.zeros(features.shape[0])\n",
    "    \n",
    "    # Lists for recording validation and training scores\n",
    "    valid_scores = []\n",
    "    train_scores = []\n",
    "    \n",
    "    # Iterate through each fold\n",
    "    for train_indices, valid_indices in k_fold.split(features):\n",
    "        \n",
    "        # Training data for the fold\n",
    "        train_features, train_labels = features[train_indices], labels[train_indices]\n",
    "        # Validation data for the fold\n",
    "        valid_features, valid_labels = features[valid_indices], labels[valid_indices]\n",
    "        \n",
    "        # Create the model\n",
    "        model = lgb.LGBMClassifier(n_estimators=1000, objective = 'binary', \n",
    "                                   class_weight = 'balanced', learning_rate = 0.05, \n",
    "                                   reg_alpha = 0.1, reg_lambda = 0.1, \n",
    "                                   subsample = 0.8, n_jobs = -1, random_state = 50)\n",
    "        \n",
    "        # Train the model\n",
    "        model.fit(train_features, train_labels, eval_metric = 'auc',\n",
    "                  eval_set = [(valid_features, valid_labels), (train_features, train_labels)],\n",
    "                  eval_names = ['valid', 'train'], categorical_feature = cat_indices,\n",
    "                  early_stopping_rounds = 300, verbose = 200)\n",
    "        \n",
    "        # Record the best iteration\n",
    "        best_iteration = model.best_iteration_\n",
    "        \n",
    "        # Record the feature importances\n",
    "        feature_importance_values += model.feature_importances_ / k_fold.n_splits\n",
    "        \n",
    "        # Make predictions\n",
    "        test_predictions += model.predict_proba(test_features, num_iteration = best_iteration)[:, 1] / k_fold.n_splits\n",
    "        \n",
    "        # Record the out of fold predictions\n",
    "        out_of_fold[valid_indices] = model.predict_proba(valid_features, num_iteration = best_iteration)[:, 1]\n",
    "        \n",
    "        # Record the best score\n",
    "        valid_score = model.best_score_['valid']['auc']\n",
    "        train_score = model.best_score_['train']['auc']\n",
    "        \n",
    "        valid_scores.append(valid_score)\n",
    "        train_scores.append(train_score)\n",
    "        \n",
    "        # Clean up memory\n",
    "        gc.enable()\n",
    "        del model, train_features, valid_features\n",
    "        gc.collect()\n",
    "        \n",
    "    # Make the submission dataframe\n",
    "    submission = pd.DataFrame({'RD_NO': test_ids, 'TARGET': test_predictions})\n",
    "    \n",
    "    # Make the feature importance dataframe\n",
    "    feature_importances = pd.DataFrame({'feature': feature_names, 'importance': feature_importance_values})\n",
    "    \n",
    "    # Overall validation score\n",
    "    valid_auc = roc_auc_score(labels, out_of_fold)\n",
    "    \n",
    "    # Add the overall scores to the metrics\n",
    "    valid_scores.append(valid_auc)\n",
    "    train_scores.append(np.mean(train_scores))\n",
    "    \n",
    "    # Needed for creating dataframe of validation scores\n",
    "    fold_names = list(range(n_folds))\n",
    "    fold_names.append('overall')\n",
    "    \n",
    "    # Dataframe of validation scores\n",
    "    metrics = pd.DataFrame({'fold': fold_names,\n",
    "                            'train': train_scores,\n",
    "                            'valid': valid_scores}) \n",
    "    \n",
    "    return submission, feature_importances, metrics"
   ]
  },
  {
   "cell_type": "code",
   "execution_count": 139,
   "metadata": {},
   "outputs": [],
   "source": [
    "def plot_feature_importances(df):\n",
    "    \"\"\"\n",
    "    Plot importances returned by a model. This can work with any measure of\n",
    "    feature importance provided that higher importance is better. \n",
    "    \n",
    "    Args:\n",
    "        df (dataframe): feature importances. Must have the features in a column\n",
    "        called `features` and the importances in a column called `importance\n",
    "        \n",
    "    Returns:\n",
    "        shows a plot of the 15 most importance features\n",
    "        \n",
    "        df (dataframe): feature importances sorted by importance (highest to lowest) \n",
    "        with a column for normalized importance\n",
    "        \"\"\"\n",
    "    \n",
    "    # Sort features according to importance\n",
    "    df = df.sort_values('importance', ascending = False).reset_index()\n",
    "    \n",
    "    # Normalize the feature importances to add up to one\n",
    "    df['importance_normalized'] = df['importance'] / df['importance'].sum()\n",
    "\n",
    "    # Make a horizontal bar chart of feature importances\n",
    "    plt.figure(figsize = (10, 6))\n",
    "    ax = plt.subplot()\n",
    "    \n",
    "    # Need to reverse the index to plot most important on top\n",
    "    ax.barh(list(reversed(list(df.index[:15]))), \n",
    "            df['importance_normalized'].head(15), \n",
    "            align = 'center', edgecolor = 'k')\n",
    "    \n",
    "    # Set the yticks and labels\n",
    "    ax.set_yticks(list(reversed(list(df.index[:15]))))\n",
    "    ax.set_yticklabels(df['feature'].head(15))\n",
    "    \n",
    "    # Plot labeling\n",
    "    plt.xlabel('Normalized Importance'); plt.title('Feature Importances')\n",
    "    plt.show()\n",
    "    \n",
    "    return df"
   ]
  },
  {
   "cell_type": "markdown",
   "metadata": {},
   "source": [
    "### fit\n",
    "For this we will use the function defined above (that implements a Gradient Boosting Machine model)."
   ]
  },
  {
   "cell_type": "code",
   "execution_count": 141,
   "metadata": {},
   "outputs": [],
   "source": [
    "# train vs test\n",
    "X=df_corrs_removed\n",
    "\n",
    "\n",
    "\n",
    "\n",
    "from sklearn.model_selection import train_test_split\n",
    "X_train, X_test = train_test_split(X, test_size=0.3, random_state=10) \n",
    "\n"
   ]
  },
  {
   "cell_type": "code",
   "execution_count": 143,
   "metadata": {},
   "outputs": [],
   "source": [
    "X_train.reset_index().drop(columns='index').to_csv('../input/train.csv',index=False)\n",
    "X_test.reset_index().drop(columns='index').to_csv('../input/test.csv',index=False)\n"
   ]
  },
  {
   "cell_type": "code",
   "execution_count": 160,
   "metadata": {},
   "outputs": [],
   "source": [
    "from sklearn import preprocessing\n",
    "\n",
    "train_df = pd.read_csv('../input/train.csv',dtype={'RD_NO':'object'})\n",
    "test_df = pd.read_csv('../input/test.csv',dtype={'RD_NO':'object'})\n",
    "\n",
    "# train_df = preprocessing.StandardScaler().fit(train_df).transform(train_df)\n",
    "# test_df = preprocessing.StandardScaler().fit(test_df).transform(test_df)\n",
    "\n"
   ]
  },
  {
   "cell_type": "code",
   "execution_count": 162,
   "metadata": {},
   "outputs": [],
   "source": [
    "# train_df = preprocessing.StandardScaler().fit(train_df).transform(train_df)\n",
    "# test_df = preprocessing.StandardScaler().fit(test_df).transform(test_df)"
   ]
  },
  {
   "cell_type": "code",
   "execution_count": 157,
   "metadata": {},
   "outputs": [
    {
     "name": "stdout",
     "output_type": "stream",
     "text": [
      "<class 'pandas.core.frame.DataFrame'>\n",
      "RangeIndex: 264341 entries, 0 to 264340\n",
      "Data columns (total 35 columns):\n",
      "RD_NO                      264341 non-null category\n",
      "CRASH_DATE                 264341 non-null object\n",
      "POSTED_SPEED_LIMIT         264341 non-null int64\n",
      "TRAFFIC_CONTROL_DEVICE     264341 non-null object\n",
      "DEVICE_CONDITION           264341 non-null object\n",
      "WEATHER_CONDITION          264341 non-null object\n",
      "LIGHTING_CONDITION         264341 non-null object\n",
      "FIRST_CRASH_TYPE           264341 non-null object\n",
      "TRAFFICWAY_TYPE            264341 non-null object\n",
      "LANE_CNT                   139152 non-null float64\n",
      "ALIGNMENT                  264341 non-null object\n",
      "ROADWAY_SURFACE_COND       264341 non-null object\n",
      "ROAD_DEFECT                264341 non-null object\n",
      "REPORT_TYPE                258244 non-null object\n",
      "CRASH_TYPE                 264341 non-null object\n",
      "INTERSECTION_RELATED_I     58411 non-null object\n",
      "HIT_AND_RUN_I              73224 non-null object\n",
      "DATE_POLICE_NOTIFIED       264341 non-null object\n",
      "PRIM_CONTRIBUTORY_CAUSE    264341 non-null object\n",
      "SEC_CONTRIBUTORY_CAUSE     264341 non-null object\n",
      "STREET_NO                  264341 non-null int64\n",
      "STREET_DIRECTION           264341 non-null object\n",
      "STREET_NAME                264341 non-null object\n",
      "BEAT_OF_OCCURRENCE         264339 non-null float64\n",
      "NUM_UNITS                  263327 non-null float64\n",
      "MOST_SEVERE_INJURY         262782 non-null object\n",
      "INJURIES_TOTAL             262787 non-null float64\n",
      "INJURIES_FATAL             262787 non-null float64\n",
      "INJURIES_INCAPACITATING    262787 non-null float64\n",
      "INJURIES_NO_INDICATION     262787 non-null float64\n",
      "INJURIES_UNKNOWN           262787 non-null float64\n",
      "CRASH_HOUR                 264341 non-null int64\n",
      "CRASH_DAY_OF_WEEK          264341 non-null int64\n",
      "CRASH_MONTH                264341 non-null int64\n",
      "TARGET                     264341 non-null int64\n",
      "dtypes: category(1), float64(8), int64(6), object(20)\n",
      "memory usage: 81.6+ MB\n"
     ]
    }
   ],
   "source": [
    "train_df.info()"
   ]
  },
  {
   "cell_type": "code",
   "execution_count": 145,
   "metadata": {},
   "outputs": [
    {
     "name": "stdout",
     "output_type": "stream",
     "text": [
      "Training Data Shape:  (10000, 1403)\n",
      "Testing Data Shape:  (10000, 1403)\n"
     ]
    },
    {
     "name": "stderr",
     "output_type": "stream",
     "text": [
      "C:\\Users\\sxc0126\\AppData\\Local\\Continuum\\anaconda3\\lib\\site-packages\\sklearn\\model_selection\\_split.py:296: FutureWarning: Setting a random_state has no effect since shuffle is False. This will raise an error in 0.24. You should leave random_state to its default (None), or set shuffle=True.\n",
      "  FutureWarning\n"
     ]
    },
    {
     "name": "stdout",
     "output_type": "stream",
     "text": [
      "Training until validation scores don't improve for 300 rounds\n",
      "[200]\ttrain's auc: 0.887901\ttrain's binary_logloss: 0.493911\tvalid's auc: 0.696364\tvalid's binary_logloss: 0.625605\n",
      "[400]\ttrain's auc: 0.949126\ttrain's binary_logloss: 0.417178\tvalid's auc: 0.698622\tvalid's binary_logloss: 0.630419\n",
      "Early stopping, best iteration is:\n",
      "[103]\ttrain's auc: 0.830113\ttrain's binary_logloss: 0.544402\tvalid's auc: 0.695781\tvalid's binary_logloss: 0.623663\n",
      "Training until validation scores don't improve for 300 rounds\n",
      "[200]\ttrain's auc: 0.885172\ttrain's binary_logloss: 0.495947\tvalid's auc: 0.703113\tvalid's binary_logloss: 0.617207\n",
      "Early stopping, best iteration is:\n",
      "[34]\ttrain's auc: 0.765335\ttrain's binary_logloss: 0.599208\tvalid's auc: 0.707229\tvalid's binary_logloss: 0.617979\n",
      "Training until validation scores don't improve for 300 rounds\n",
      "[200]\ttrain's auc: 0.886822\ttrain's binary_logloss: 0.494672\tvalid's auc: 0.692\tvalid's binary_logloss: 0.616451\n",
      "[400]\ttrain's auc: 0.952867\ttrain's binary_logloss: 0.412959\tvalid's auc: 0.6856\tvalid's binary_logloss: 0.628246\n",
      "Early stopping, best iteration is:\n",
      "[108]\ttrain's auc: 0.831899\ttrain's binary_logloss: 0.543297\tvalid's auc: 0.697294\tvalid's binary_logloss: 0.614323\n",
      "Training until validation scores don't improve for 300 rounds\n",
      "[200]\ttrain's auc: 0.888584\ttrain's binary_logloss: 0.491038\tvalid's auc: 0.660243\tvalid's binary_logloss: 0.655162\n",
      "Early stopping, best iteration is:\n",
      "[60]\ttrain's auc: 0.790315\ttrain's binary_logloss: 0.572818\tvalid's auc: 0.675806\tvalid's binary_logloss: 0.643708\n",
      "Training until validation scores don't improve for 300 rounds\n",
      "[200]\ttrain's auc: 0.886464\ttrain's binary_logloss: 0.496062\tvalid's auc: 0.687649\tvalid's binary_logloss: 0.624859\n",
      "Early stopping, best iteration is:\n",
      "[22]\ttrain's auc: 0.749716\ttrain's binary_logloss: 0.61566\tvalid's auc: 0.704662\tvalid's binary_logloss: 0.629222\n",
      "Training until validation scores don't improve for 300 rounds\n",
      "[200]\ttrain's auc: 0.88545\ttrain's binary_logloss: 0.494491\tvalid's auc: 0.685743\tvalid's binary_logloss: 0.629394\n",
      "Early stopping, best iteration is:\n",
      "[24]\ttrain's auc: 0.756009\ttrain's binary_logloss: 0.612299\tvalid's auc: 0.693545\tvalid's binary_logloss: 0.633314\n",
      "Training until validation scores don't improve for 300 rounds\n",
      "[200]\ttrain's auc: 0.885361\ttrain's binary_logloss: 0.496752\tvalid's auc: 0.716463\tvalid's binary_logloss: 0.603449\n",
      "[400]\ttrain's auc: 0.949839\ttrain's binary_logloss: 0.419584\tvalid's auc: 0.701013\tvalid's binary_logloss: 0.615578\n",
      "Early stopping, best iteration is:\n",
      "[117]\ttrain's auc: 0.838275\ttrain's binary_logloss: 0.53867\tvalid's auc: 0.721106\tvalid's binary_logloss: 0.602165\n",
      "Training until validation scores don't improve for 300 rounds\n",
      "[200]\ttrain's auc: 0.884648\ttrain's binary_logloss: 0.496055\tvalid's auc: 0.701008\tvalid's binary_logloss: 0.618757\n",
      "Early stopping, best iteration is:\n",
      "[66]\ttrain's auc: 0.794899\ttrain's binary_logloss: 0.570934\tvalid's auc: 0.715126\tvalid's binary_logloss: 0.613424\n",
      "Training until validation scores don't improve for 300 rounds\n",
      "[200]\ttrain's auc: 0.883453\ttrain's binary_logloss: 0.495322\tvalid's auc: 0.693998\tvalid's binary_logloss: 0.615397\n",
      "[400]\ttrain's auc: 0.946439\ttrain's binary_logloss: 0.417071\tvalid's auc: 0.694293\tvalid's binary_logloss: 0.62362\n",
      "Early stopping, best iteration is:\n",
      "[123]\ttrain's auc: 0.840885\ttrain's binary_logloss: 0.53392\tvalid's auc: 0.694544\tvalid's binary_logloss: 0.612756\n",
      "Training until validation scores don't improve for 300 rounds\n",
      "[200]\ttrain's auc: 0.887839\ttrain's binary_logloss: 0.493643\tvalid's auc: 0.678634\tvalid's binary_logloss: 0.633591\n",
      "Early stopping, best iteration is:\n",
      "[60]\ttrain's auc: 0.788357\ttrain's binary_logloss: 0.574941\tvalid's auc: 0.694278\tvalid's binary_logloss: 0.624881\n"
     ]
    }
   ],
   "source": [
    "submission, fi, metrics = model(train_df[0:100000], test_df[0:100000])"
   ]
  },
  {
   "cell_type": "code",
   "execution_count": 146,
   "metadata": {},
   "outputs": [
    {
     "data": {
      "text/html": [
       "<div>\n",
       "<style scoped>\n",
       "    .dataframe tbody tr th:only-of-type {\n",
       "        vertical-align: middle;\n",
       "    }\n",
       "\n",
       "    .dataframe tbody tr th {\n",
       "        vertical-align: top;\n",
       "    }\n",
       "\n",
       "    .dataframe thead th {\n",
       "        text-align: right;\n",
       "    }\n",
       "</style>\n",
       "<table border=\"1\" class=\"dataframe\">\n",
       "  <thead>\n",
       "    <tr style=\"text-align: right;\">\n",
       "      <th></th>\n",
       "      <th>fold</th>\n",
       "      <th>train</th>\n",
       "      <th>valid</th>\n",
       "    </tr>\n",
       "  </thead>\n",
       "  <tbody>\n",
       "    <tr>\n",
       "      <th>0</th>\n",
       "      <td>0</td>\n",
       "      <td>0.830113</td>\n",
       "      <td>0.695781</td>\n",
       "    </tr>\n",
       "    <tr>\n",
       "      <th>1</th>\n",
       "      <td>1</td>\n",
       "      <td>0.765335</td>\n",
       "      <td>0.707229</td>\n",
       "    </tr>\n",
       "    <tr>\n",
       "      <th>2</th>\n",
       "      <td>2</td>\n",
       "      <td>0.831899</td>\n",
       "      <td>0.697294</td>\n",
       "    </tr>\n",
       "    <tr>\n",
       "      <th>3</th>\n",
       "      <td>3</td>\n",
       "      <td>0.790315</td>\n",
       "      <td>0.675806</td>\n",
       "    </tr>\n",
       "    <tr>\n",
       "      <th>4</th>\n",
       "      <td>4</td>\n",
       "      <td>0.749716</td>\n",
       "      <td>0.704662</td>\n",
       "    </tr>\n",
       "    <tr>\n",
       "      <th>5</th>\n",
       "      <td>5</td>\n",
       "      <td>0.756009</td>\n",
       "      <td>0.693545</td>\n",
       "    </tr>\n",
       "    <tr>\n",
       "      <th>6</th>\n",
       "      <td>6</td>\n",
       "      <td>0.838275</td>\n",
       "      <td>0.721106</td>\n",
       "    </tr>\n",
       "    <tr>\n",
       "      <th>7</th>\n",
       "      <td>7</td>\n",
       "      <td>0.794899</td>\n",
       "      <td>0.715126</td>\n",
       "    </tr>\n",
       "    <tr>\n",
       "      <th>8</th>\n",
       "      <td>8</td>\n",
       "      <td>0.840885</td>\n",
       "      <td>0.694544</td>\n",
       "    </tr>\n",
       "    <tr>\n",
       "      <th>9</th>\n",
       "      <td>9</td>\n",
       "      <td>0.788357</td>\n",
       "      <td>0.694278</td>\n",
       "    </tr>\n",
       "    <tr>\n",
       "      <th>10</th>\n",
       "      <td>overall</td>\n",
       "      <td>0.798580</td>\n",
       "      <td>0.697963</td>\n",
       "    </tr>\n",
       "  </tbody>\n",
       "</table>\n",
       "</div>"
      ],
      "text/plain": [
       "       fold     train     valid\n",
       "0         0  0.830113  0.695781\n",
       "1         1  0.765335  0.707229\n",
       "2         2  0.831899  0.697294\n",
       "3         3  0.790315  0.675806\n",
       "4         4  0.749716  0.704662\n",
       "5         5  0.756009  0.693545\n",
       "6         6  0.838275  0.721106\n",
       "7         7  0.794899  0.715126\n",
       "8         8  0.840885  0.694544\n",
       "9         9  0.788357  0.694278\n",
       "10  overall  0.798580  0.697963"
      ]
     },
     "execution_count": 146,
     "metadata": {},
     "output_type": "execute_result"
    }
   ],
   "source": [
    "metrics"
   ]
  },
  {
   "cell_type": "code",
   "execution_count": 147,
   "metadata": {},
   "outputs": [
    {
     "data": {
      "image/png": "[encoded data removed]",
      "text/plain": [
       "<Figure size 720x432 with 1 Axes>"
      ]
     },
     "metadata": {},
     "output_type": "display_data"
    }
   ],
   "source": [
    "fi_sorted = plot_feature_importances(fi)"
   ]
  },
  {
   "cell_type": "code",
   "execution_count": null,
   "metadata": {},
   "outputs": [],
   "source": []
  }
 ],
 "metadata": {
  "kernelspec": {
   "display_name": "Python 3",
   "language": "python",
   "name": "python3"
  },
  "language_info": {
   "codemirror_mode": {
    "name": "ipython",
    "version": 3
   },
   "file_extension": ".py",
   "mimetype": "text/x-python",
   "name": "python",
   "nbconvert_exporter": "python",
   "pygments_lexer": "ipython3",
   "version": "3.7.1"
  }
 },
 "nbformat": 4,
 "nbformat_minor": 2
}
